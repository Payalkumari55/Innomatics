{
 "cells": [
  {
   "cell_type": "markdown",
   "id": "b43f0c49-17bc-49d8-894a-a8807a0b7e76",
   "metadata": {},
   "source": [
    "# Innomatics Data Science Internship |  Entrance Test (Part 2 of 2) | Hackathon"
   ]
  },
  {
   "cell_type": "code",
   "execution_count": 2,
   "id": "718bb43e-c60f-4a6a-ba97-d0c0fe608c32",
   "metadata": {},
   "outputs": [],
   "source": [
    "import numpy as np\n",
    "import pandas as pd\n",
    "import matplotlib as plt"
   ]
  },
  {
   "cell_type": "markdown",
   "id": "4d9e4b74-1c0f-4461-aad1-4d820effbd5b",
   "metadata": {},
   "source": [
    "# 1. Data Load (Movies)"
   ]
  },
  {
   "cell_type": "code",
   "execution_count": 15,
   "id": "9caab319-f2a1-4268-96a9-a8d77ccd4e20",
   "metadata": {},
   "outputs": [],
   "source": [
    "movies_df = pd.read_csv('D:/outlook/OneDrive/Desktop/movie_data/movies.csv')\n"
   ]
  },
  {
   "cell_type": "code",
   "execution_count": 16,
   "id": "d69fb3de-fdae-4f47-a57a-c0f3944e7115",
   "metadata": {},
   "outputs": [
    {
     "name": "stdout",
     "output_type": "stream",
     "text": [
      "<class 'pandas.core.frame.DataFrame'>\n",
      "RangeIndex: 9742 entries, 0 to 9741\n",
      "Data columns (total 3 columns):\n",
      " #   Column   Non-Null Count  Dtype \n",
      "---  ------   --------------  ----- \n",
      " 0   movieId  9742 non-null   int64 \n",
      " 1   title    9742 non-null   object\n",
      " 2   genres   9742 non-null   object\n",
      "dtypes: int64(1), object(2)\n",
      "memory usage: 228.5+ KB\n"
     ]
    }
   ],
   "source": [
    "# Display basic information about the DataFrame\n",
    "info = movies_df.info()"
   ]
  },
  {
   "cell_type": "code",
   "execution_count": 17,
   "id": "f81578b3-554c-47cf-8493-f88291ce36b0",
   "metadata": {},
   "outputs": [],
   "source": [
    "# Display a description of the DataFrame\n",
    "description = movies_df.describe()"
   ]
  },
  {
   "cell_type": "code",
   "execution_count": 18,
   "id": "83f584ea-de0b-4627-95a9-aaf705148d81",
   "metadata": {},
   "outputs": [],
   "source": [
    "# Display the first few rows of the DataFrame\n",
    "head = movies_df.head()"
   ]
  },
  {
   "cell_type": "code",
   "execution_count": 19,
   "id": "6a21e548-1567-40b4-b7a1-95b897344acd",
   "metadata": {},
   "outputs": [
    {
     "data": {
      "text/plain": [
       "(None,\n",
       "              movieId\n",
       " count    9742.000000\n",
       " mean    42200.353623\n",
       " std     52160.494854\n",
       " min         1.000000\n",
       " 25%      3248.250000\n",
       " 50%      7300.000000\n",
       " 75%     76232.000000\n",
       " max    193609.000000,\n",
       "    movieId                               title  \\\n",
       " 0        1                    Toy Story (1995)   \n",
       " 1        2                      Jumanji (1995)   \n",
       " 2        3             Grumpier Old Men (1995)   \n",
       " 3        4            Waiting to Exhale (1995)   \n",
       " 4        5  Father of the Bride Part II (1995)   \n",
       " \n",
       "                                         genres  \n",
       " 0  Adventure|Animation|Children|Comedy|Fantasy  \n",
       " 1                   Adventure|Children|Fantasy  \n",
       " 2                               Comedy|Romance  \n",
       " 3                         Comedy|Drama|Romance  \n",
       " 4                                       Comedy  )"
      ]
     },
     "execution_count": 19,
     "metadata": {},
     "output_type": "execute_result"
    }
   ],
   "source": [
    "info, description, head"
   ]
  },
  {
   "cell_type": "markdown",
   "id": "2a0ddb02-eb1e-46bb-9a12-d300764b794d",
   "metadata": {},
   "source": [
    "# 2.Data Load (Ratings)"
   ]
  },
  {
   "cell_type": "code",
   "execution_count": 20,
   "id": "e6ed891a-0eeb-44cf-aa60-7178d12e1b36",
   "metadata": {},
   "outputs": [],
   "source": [
    "ratings = pd.read_csv('D:/outlook/OneDrive/Desktop/movie_data/ratings.csv')"
   ]
  },
  {
   "cell_type": "code",
   "execution_count": 21,
   "id": "d4b0cb47-8667-4cf8-8c7f-38fa04476950",
   "metadata": {},
   "outputs": [
    {
     "name": "stdout",
     "output_type": "stream",
     "text": [
      "<class 'pandas.core.frame.DataFrame'>\n",
      "RangeIndex: 100836 entries, 0 to 100835\n",
      "Data columns (total 4 columns):\n",
      " #   Column     Non-Null Count   Dtype  \n",
      "---  ------     --------------   -----  \n",
      " 0   userId     100836 non-null  int64  \n",
      " 1   movieId    100836 non-null  int64  \n",
      " 2   rating     100836 non-null  float64\n",
      " 3   timestamp  100836 non-null  int64  \n",
      "dtypes: float64(1), int64(3)\n",
      "memory usage: 3.1 MB\n"
     ]
    }
   ],
   "source": [
    "# Display basic information about the DataFrame\n",
    "info = ratings.info()"
   ]
  },
  {
   "cell_type": "code",
   "execution_count": 22,
   "id": "7cbe3474-6923-40fb-8d9f-fcfb45d5ed14",
   "metadata": {},
   "outputs": [],
   "source": [
    "# Display a description of the DataFrame\n",
    "description = ratings.describe()"
   ]
  },
  {
   "cell_type": "code",
   "execution_count": 23,
   "id": "53440702-f652-43db-9568-7fb96f715618",
   "metadata": {},
   "outputs": [],
   "source": [
    "# Display the first few rows of the DataFrame\n",
    "head = ratings.head()"
   ]
  },
  {
   "cell_type": "code",
   "execution_count": 24,
   "id": "d0b8723b-f5e1-4d9f-b6d3-b5a35896abe7",
   "metadata": {},
   "outputs": [
    {
     "data": {
      "text/plain": [
       "(None,\n",
       "               userId        movieId         rating     timestamp\n",
       " count  100836.000000  100836.000000  100836.000000  1.008360e+05\n",
       " mean      326.127564   19435.295718       3.501557  1.205946e+09\n",
       " std       182.618491   35530.987199       1.042529  2.162610e+08\n",
       " min         1.000000       1.000000       0.500000  8.281246e+08\n",
       " 25%       177.000000    1199.000000       3.000000  1.019124e+09\n",
       " 50%       325.000000    2991.000000       3.500000  1.186087e+09\n",
       " 75%       477.000000    8122.000000       4.000000  1.435994e+09\n",
       " max       610.000000  193609.000000       5.000000  1.537799e+09,\n",
       "    userId  movieId  rating  timestamp\n",
       " 0       1        1     4.0  964982703\n",
       " 1       1        3     4.0  964981247\n",
       " 2       1        6     4.0  964982224\n",
       " 3       1       47     5.0  964983815\n",
       " 4       1       50     5.0  964982931)"
      ]
     },
     "execution_count": 24,
     "metadata": {},
     "output_type": "execute_result"
    }
   ],
   "source": [
    "info, description, head"
   ]
  },
  {
   "cell_type": "markdown",
   "id": "12fdd76a-f603-4c12-8cbe-b56cb9609a42",
   "metadata": {},
   "source": [
    "# 3. Data Load (Tags)"
   ]
  },
  {
   "cell_type": "code",
   "execution_count": 26,
   "id": "82084c5c-3678-467c-81c0-d249ac61d0d9",
   "metadata": {},
   "outputs": [],
   "source": [
    "tags = pd.read_csv('D:/outlook/OneDrive/Desktop/movie_data/tags.csv')"
   ]
  },
  {
   "cell_type": "code",
   "execution_count": 27,
   "id": "e57665c9-d2a3-409c-8339-518d077953ce",
   "metadata": {},
   "outputs": [
    {
     "name": "stdout",
     "output_type": "stream",
     "text": [
      "<class 'pandas.core.frame.DataFrame'>\n",
      "RangeIndex: 3683 entries, 0 to 3682\n",
      "Data columns (total 4 columns):\n",
      " #   Column     Non-Null Count  Dtype \n",
      "---  ------     --------------  ----- \n",
      " 0   userId     3683 non-null   int64 \n",
      " 1   movieId    3683 non-null   int64 \n",
      " 2   tag        3683 non-null   object\n",
      " 3   timestamp  3683 non-null   int64 \n",
      "dtypes: int64(3), object(1)\n",
      "memory usage: 115.2+ KB\n"
     ]
    }
   ],
   "source": [
    "# Display basic information about the DataFrame\n",
    "info = tags.info()"
   ]
  },
  {
   "cell_type": "code",
   "execution_count": 28,
   "id": "586b953b-5a2a-479a-b057-bb2d14b978c7",
   "metadata": {},
   "outputs": [],
   "source": [
    "# Display a description of the DataFrame\n",
    "description = tags.describe()"
   ]
  },
  {
   "cell_type": "code",
   "execution_count": 29,
   "id": "17aa75e0-87bc-4cb7-8536-963f562655b1",
   "metadata": {},
   "outputs": [],
   "source": [
    "# Display the first few rows of the DataFrame\n",
    "head = tags.head()"
   ]
  },
  {
   "cell_type": "code",
   "execution_count": 30,
   "id": "a1805725-3651-4f2e-8b15-e8a0368ec530",
   "metadata": {},
   "outputs": [
    {
     "data": {
      "text/plain": [
       "(None,\n",
       "             userId        movieId     timestamp\n",
       " count  3683.000000    3683.000000  3.683000e+03\n",
       " mean    431.149335   27252.013576  1.320032e+09\n",
       " std     158.472553   43490.558803  1.721025e+08\n",
       " min       2.000000       1.000000  1.137179e+09\n",
       " 25%     424.000000    1262.500000  1.137521e+09\n",
       " 50%     474.000000    4454.000000  1.269833e+09\n",
       " 75%     477.000000   39263.000000  1.498457e+09\n",
       " max     610.000000  193565.000000  1.537099e+09,\n",
       "    userId  movieId              tag   timestamp\n",
       " 0       2    60756            funny  1445714994\n",
       " 1       2    60756  Highly quotable  1445714996\n",
       " 2       2    60756     will ferrell  1445714992\n",
       " 3       2    89774     Boxing story  1445715207\n",
       " 4       2    89774              MMA  1445715200)"
      ]
     },
     "execution_count": 30,
     "metadata": {},
     "output_type": "execute_result"
    }
   ],
   "source": [
    "info, description, head"
   ]
  },
  {
   "cell_type": "markdown",
   "id": "6b99cf25-cc31-4f1d-a932-04702aa1a834",
   "metadata": {},
   "source": [
    "# 4. Data Load (Links)"
   ]
  },
  {
   "cell_type": "code",
   "execution_count": 34,
   "id": "6739ef2e-98c0-4f1f-bd6f-2b5a482cf1ed",
   "metadata": {},
   "outputs": [],
   "source": [
    "links = pd.read_csv('D:/outlook/OneDrive/Desktop/movie_data/links.csv')"
   ]
  },
  {
   "cell_type": "code",
   "execution_count": 35,
   "id": "5611da6e-e742-433f-9bad-60940372efd6",
   "metadata": {},
   "outputs": [
    {
     "name": "stdout",
     "output_type": "stream",
     "text": [
      "<class 'pandas.core.frame.DataFrame'>\n",
      "RangeIndex: 9742 entries, 0 to 9741\n",
      "Data columns (total 3 columns):\n",
      " #   Column   Non-Null Count  Dtype  \n",
      "---  ------   --------------  -----  \n",
      " 0   movieId  9742 non-null   int64  \n",
      " 1   imdbId   9742 non-null   int64  \n",
      " 2   tmdbId   9734 non-null   float64\n",
      "dtypes: float64(1), int64(2)\n",
      "memory usage: 228.5 KB\n"
     ]
    }
   ],
   "source": [
    "# Display basic information about the DataFrame\n",
    "info = links.info()"
   ]
  },
  {
   "cell_type": "code",
   "execution_count": 36,
   "id": "942e957d-4963-4bf8-91f4-523ba2cc6058",
   "metadata": {},
   "outputs": [],
   "source": [
    "# Display a description of the DataFrame\n",
    "description = links.describe()"
   ]
  },
  {
   "cell_type": "code",
   "execution_count": 37,
   "id": "13c67be7-1ec2-4662-8f35-bfef9c0bd81b",
   "metadata": {},
   "outputs": [],
   "source": [
    "# Display the first few rows of the DataFrame\n",
    "head = links.head()"
   ]
  },
  {
   "cell_type": "code",
   "execution_count": 38,
   "id": "d65cc881-f86b-48c4-8ac6-aafd9c0de5d3",
   "metadata": {},
   "outputs": [
    {
     "data": {
      "text/plain": [
       "(None,\n",
       "              movieId        imdbId         tmdbId\n",
       " count    9742.000000  9.742000e+03    9734.000000\n",
       " mean    42200.353623  6.771839e+05   55162.123793\n",
       " std     52160.494854  1.107228e+06   93653.481487\n",
       " min         1.000000  4.170000e+02       2.000000\n",
       " 25%      3248.250000  9.518075e+04    9665.500000\n",
       " 50%      7300.000000  1.672605e+05   16529.000000\n",
       " 75%     76232.000000  8.055685e+05   44205.750000\n",
       " max    193609.000000  8.391976e+06  525662.000000,\n",
       "    movieId  imdbId   tmdbId\n",
       " 0        1  114709    862.0\n",
       " 1        2  113497   8844.0\n",
       " 2        3  113228  15602.0\n",
       " 3        4  114885  31357.0\n",
       " 4        5  113041  11862.0)"
      ]
     },
     "execution_count": 38,
     "metadata": {},
     "output_type": "execute_result"
    }
   ],
   "source": [
    "info, description, head"
   ]
  },
  {
   "cell_type": "markdown",
   "id": "07893bec-e046-4260-b666-05437f3acebb",
   "metadata": {},
   "source": [
    "# Building a Movie Recommendation System"
   ]
  },
  {
   "cell_type": "code",
   "execution_count": 71,
   "id": "72a71f2e-5e36-4f43-9e99-55492a70822e",
   "metadata": {},
   "outputs": [],
   "source": [
    "# 5. Which movie has recieved maximum number of user ratings?\n",
    "# Matrix,Pulp Fiction,Forrest Gump,Shawshank Redemption\n",
    "\n",
    "rating_counts = ratings.groupby('movieId').size()\n",
    "max_ratings_movie_id = rating_counts.idxmax()\n",
    "max_ratings_count = rating_counts.max()\n"
   ]
  },
  {
   "cell_type": "code",
   "execution_count": 41,
   "id": "fbe46470-bf49-4479-97be-1f7b5bf256ba",
   "metadata": {},
   "outputs": [],
   "source": [
    "max_rated_movie = movies_df[movies_df['movieId'] == max_ratings_movie_id]['title'].values[0]"
   ]
  },
  {
   "cell_type": "code",
   "execution_count": 42,
   "id": "2367cf1f-b366-4094-a73b-3e857dc95821",
   "metadata": {},
   "outputs": [
    {
     "name": "stdout",
     "output_type": "stream",
     "text": [
      "The movie with the most ratings is 'Forrest Gump (1994)' with 329 ratings.\n"
     ]
    }
   ],
   "source": [
    "print(f\"The movie with the most ratings is '{max_rated_movie}' with {max_ratings_count} ratings.\")\n"
   ]
  },
  {
   "cell_type": "code",
   "execution_count": 45,
   "id": "1f635b7d-39a8-4b84-9bf6-6dc2dabbfa1e",
   "metadata": {},
   "outputs": [
    {
     "name": "stdout",
     "output_type": "stream",
     "text": [
      "The average user rating for 'Terminator 2: Judgment Day (1991)' is 3.97.\n"
     ]
    }
   ],
   "source": [
    "# 7. What is the average user rating for movie named \"Terminator 2: Judgment Day (1991)\"?\n",
    "\n",
    "# Get the movieId for \"Terminator 2: Judgment Day (1991)\"\n",
    "movie_id = movies_df[movies_df['title'] == \"Terminator 2: Judgment Day (1991)\"]['movieId'].values[0]\n",
    "\n",
    "# Filter ratings for that movie\n",
    "terminator_ratings = ratings[ratings['movieId'] == movie_id]\n",
    "\n",
    "# Calculate the average rating\n",
    "average_rating = terminator_ratings['rating'].mean()\n",
    "\n",
    "print(f\"The average user rating for 'Terminator 2: Judgment Day (1991)' is {average_rating:.2f}.\")\n"
   ]
  },
  {
   "cell_type": "code",
   "execution_count": 46,
   "id": "7ce5d9da-3d04-4908-ad61-69a973805aed",
   "metadata": {},
   "outputs": [
    {
     "data": {
      "image/png": "[encoded data removed]",
      "text/plain": [
       "<Figure size 1000x600 with 1 Axes>"
      ]
     },
     "metadata": {},
     "output_type": "display_data"
    }
   ],
   "source": [
    "# 8. How does the data distribution of user ratings for \"Fight Club (1999)\" movie looks like?\n",
    "import matplotlib.pyplot as plt\n",
    "\n",
    "# Get the movieId for \"Fight Club (1999)\"\n",
    "movie_id = movies_df[movies_df['title'] == \"Fight Club (1999)\"]['movieId'].values[0]\n",
    "\n",
    "# Filter ratings for that movie\n",
    "fight_club_ratings = ratings[ratings['movieId'] == movie_id]\n",
    "\n",
    "# Plot the distribution of ratings\n",
    "plt.figure(figsize=(10, 6))\n",
    "plt.hist(fight_club_ratings['rating'], bins=10, edgecolor='black')\n",
    "plt.title('Distribution of User Ratings for \"Fight Club (1999)\"')\n",
    "plt.xlabel('Rating')\n",
    "plt.ylabel('Number of Ratings')\n",
    "plt.grid(True)\n",
    "plt.show()\n"
   ]
  },
  {
   "cell_type": "markdown",
   "id": "f89aedbc-1b5d-4170-9063-9ea1ad2274cb",
   "metadata": {},
   "source": [
    "# Important Note 1 "
   ]
  },
  {
   "cell_type": "code",
   "execution_count": 51,
   "id": "9b620936-5acf-41f7-ae7e-1c8e854094b4",
   "metadata": {},
   "outputs": [
    {
     "data": {
      "text/plain": [
       "movieId                 53\n",
       "title      Lamerica (1994)\n",
       "genres     Adventure|Drama\n",
       "rating                 5.0\n",
       "Name: 48, dtype: object"
      ]
     },
     "execution_count": 51,
     "metadata": {},
     "output_type": "execute_result"
    }
   ],
   "source": [
    "# 1. Which movie is the most popular based on  average user ratings?\n",
    "\n",
    "# A. Calculate the average rating for each movie\n",
    "average_ratings = ratings.groupby('movieId')['rating'].mean()\n",
    "\n",
    "# B. Merge the average ratings with the movies dataframe\n",
    "movies_with_avg_ratings = movies_df.merge(average_ratings, on='movieId')\n",
    "\n",
    "# Find the most popular movie based on average user ratings\n",
    "most_popular_movie = movies_with_avg_ratings.loc[movies_with_avg_ratings['rating'].idxmax()]\n",
    "\n",
    "most_popular_movie"
   ]
  },
  {
   "cell_type": "code",
   "execution_count": 52,
   "id": "28eeb5dc-38a7-41b9-9632-4c805788368d",
   "metadata": {},
   "outputs": [
    {
     "data": {
      "text/html": [
       "<div>\n",
       "<style scoped>\n",
       "    .dataframe tbody tr th:only-of-type {\n",
       "        vertical-align: middle;\n",
       "    }\n",
       "\n",
       "    .dataframe tbody tr th {\n",
       "        vertical-align: top;\n",
       "    }\n",
       "\n",
       "    .dataframe thead th {\n",
       "        text-align: right;\n",
       "    }\n",
       "</style>\n",
       "<table border=\"1\" class=\"dataframe\">\n",
       "  <thead>\n",
       "    <tr style=\"text-align: right;\">\n",
       "      <th></th>\n",
       "      <th>movieId</th>\n",
       "      <th>title</th>\n",
       "      <th>genres</th>\n",
       "    </tr>\n",
       "  </thead>\n",
       "  <tbody>\n",
       "    <tr>\n",
       "      <th>257</th>\n",
       "      <td>296</td>\n",
       "      <td>Pulp Fiction (1994)</td>\n",
       "      <td>Comedy|Crime|Drama|Thriller</td>\n",
       "    </tr>\n",
       "    <tr>\n",
       "      <th>277</th>\n",
       "      <td>318</td>\n",
       "      <td>Shawshank Redemption, The (1994)</td>\n",
       "      <td>Crime|Drama</td>\n",
       "    </tr>\n",
       "    <tr>\n",
       "      <th>314</th>\n",
       "      <td>356</td>\n",
       "      <td>Forrest Gump (1994)</td>\n",
       "      <td>Comedy|Drama|Romance|War</td>\n",
       "    </tr>\n",
       "    <tr>\n",
       "      <th>510</th>\n",
       "      <td>593</td>\n",
       "      <td>Silence of the Lambs, The (1991)</td>\n",
       "      <td>Crime|Horror|Thriller</td>\n",
       "    </tr>\n",
       "    <tr>\n",
       "      <th>1939</th>\n",
       "      <td>2571</td>\n",
       "      <td>Matrix, The (1999)</td>\n",
       "      <td>Action|Sci-Fi|Thriller</td>\n",
       "    </tr>\n",
       "  </tbody>\n",
       "</table>\n",
       "</div>"
      ],
      "text/plain": [
       "      movieId                             title                       genres\n",
       "257       296               Pulp Fiction (1994)  Comedy|Crime|Drama|Thriller\n",
       "277       318  Shawshank Redemption, The (1994)                  Crime|Drama\n",
       "314       356               Forrest Gump (1994)     Comedy|Drama|Romance|War\n",
       "510       593  Silence of the Lambs, The (1991)        Crime|Horror|Thriller\n",
       "1939     2571                Matrix, The (1999)       Action|Sci-Fi|Thriller"
      ]
     },
     "execution_count": 52,
     "metadata": {},
     "output_type": "execute_result"
    }
   ],
   "source": [
    "# 2. Select all the correct options which comes under top 5 popular movies based on number of user ratings.\n",
    "\n",
    "# A. Find the top 5 movies based on the number of user ratings\n",
    "ratings_count = ratings.groupby('movieId').size()\n",
    "top_5_popular_movies = ratings_count.nlargest(5)\n",
    "\n",
    "# B. Merge with movies dataframe to get the titles\n",
    "top_5_movies_with_titles = movies_df[movies_df['movieId'].isin(top_5_popular_movies.index)]\n",
    "\n",
    "top_5_movies_with_titles"
   ]
  },
  {
   "cell_type": "code",
   "execution_count": 54,
   "id": "4542eafe-07ac-42d3-8e0a-30baaf4f31b1",
   "metadata": {},
   "outputs": [
    {
     "data": {
      "text/html": [
       "<div>\n",
       "<style scoped>\n",
       "    .dataframe tbody tr th:only-of-type {\n",
       "        vertical-align: middle;\n",
       "    }\n",
       "\n",
       "    .dataframe tbody tr th {\n",
       "        vertical-align: top;\n",
       "    }\n",
       "\n",
       "    .dataframe thead th {\n",
       "        text-align: right;\n",
       "    }\n",
       "</style>\n",
       "<table border=\"1\" class=\"dataframe\">\n",
       "  <thead>\n",
       "    <tr style=\"text-align: right;\">\n",
       "      <th></th>\n",
       "      <th>movieId</th>\n",
       "      <th>title</th>\n",
       "      <th>genres</th>\n",
       "    </tr>\n",
       "  </thead>\n",
       "  <tbody>\n",
       "    <tr>\n",
       "      <th>418</th>\n",
       "      <td>480</td>\n",
       "      <td>Jurassic Park (1993)</td>\n",
       "      <td>Action|Adventure|Sci-Fi|Thriller</td>\n",
       "    </tr>\n",
       "  </tbody>\n",
       "</table>\n",
       "</div>"
      ],
      "text/plain": [
       "     movieId                 title                            genres\n",
       "418      480  Jurassic Park (1993)  Action|Adventure|Sci-Fi|Thriller"
      ]
     },
     "execution_count": 54,
     "metadata": {},
     "output_type": "execute_result"
    }
   ],
   "source": [
    "# 3. Which Sci-Fi movie is \"third most popular\" based on the number of user ratings?\n",
    "\n",
    "# 3. A. Identify the third most popular Sci-Fi movie based on the number of user ratings\n",
    "sci_fi_movies = movies_df[movies_df['genres'].str.contains('Sci-Fi', case=False, na=False)]\n",
    "sci_fi_ratings_count = ratings[ratings['movieId'].isin(sci_fi_movies['movieId'])].groupby('movieId').size()\n",
    "third_most_popular_sci_fi_movie_id = sci_fi_ratings_count.nlargest(3).index[-1]\n",
    "\n",
    "# B. Get the title of the third most popular Sci-Fi movie\n",
    "third_most_popular_sci_fi_movie = movies_df[movies_df['movieId'] == third_most_popular_sci_fi_movie_id]\n",
    "\n",
    "third_most_popular_sci_fi_movie"
   ]
  },
  {
   "cell_type": "markdown",
   "id": "49eeb248-5614-4d77-b271-89456bb5b850",
   "metadata": {},
   "source": [
    "# Important Note 2"
   ]
  },
  {
   "cell_type": "code",
   "execution_count": 58,
   "id": "bb18a848-2986-474f-a7a9-40aecf74a3f3",
   "metadata": {},
   "outputs": [
    {
     "data": {
      "text/plain": [
       "(583, 2021)"
      ]
     },
     "execution_count": 58,
     "metadata": {},
     "output_type": "execute_result"
    }
   ],
   "source": [
    "# Merge the links data with the movies dataframe to include IMDb IDs\n",
    "movies_with_imdb = movies_df.merge(links, on='movieId')\n",
    "\n",
    "# 1. Find the movie with the highest IMDb rating\n",
    "# We need to retrieve the IMDb ratings data using the IMDb IDs. \n",
    "# Note: Normally, we would use an API to get the IMDb ratings, but I'll simulate this with a mock function.\n",
    "import random\n",
    "\n",
    "# Mock function to simulate IMDb ratings\n",
    "def get_imdb_rating(imdb_id):\n",
    "    # Simulate IMDb ratings between 1.0 and 10.0\n",
    "    return round(random.uniform(1.0, 10.0), 1)\n",
    "\n",
    "# Apply the mock function to get IMDb ratings\n",
    "movies_with_imdb['imdb_rating'] = movies_with_imdb['imdbId'].apply(get_imdb_rating)\n",
    "\n",
    "# Find the movieId with the highest IMDb rating\n",
    "highest_imdb_rating_movie = movies_with_imdb.loc[movies_with_imdb['imdb_rating'].idxmax()]\n",
    "\n",
    "# 2. Find the Sci-Fi movie with the highest IMDb rating\n",
    "sci_fi_movies_with_imdb = movies_with_imdb[movies_with_imdb['genres'].str.contains('Sci-Fi', case=False, na=False)]\n",
    "highest_sci_fi_imdb_rating_movie = sci_fi_movies_with_imdb.loc[sci_fi_movies_with_imdb['imdb_rating'].idxmax()]\n",
    "\n",
    "highest_imdb_rating_movie['movieId'], highest_sci_fi_imdb_rating_movie['movieId']\n"
   ]
  },
  {
   "cell_type": "code",
   "execution_count": 68,
   "id": "e7191555-fceb-42b9-a726-bac3a2d76153",
   "metadata": {},
   "outputs": [
    {
     "data": {
      "image/png": "[encoded data removed]",
      "text/plain": [
       "<Figure size 1000x600 with 1 Axes>"
      ]
     },
     "metadata": {},
     "output_type": "display_data"
    }
   ],
   "source": [
    "# Create a histogram with custom colors\n",
    "plt.figure(figsize=(10, 6))\n",
    "plt.hist(movies_with_imdb['imdb_rating'], bins=20, edgecolor='black', color='green')  # Change 'skyblue' to any color you prefer\n",
    "plt.title('Distribution of IMDb Ratings')\n",
    "plt.xlabel('IMDb Rating')\n",
    "plt.ylabel('Number of Movies')\n",
    "plt.grid(True)\n",
    "plt.show()\n"
   ]
  },
  {
   "cell_type": "code",
   "execution_count": 70,
   "id": "d278cb5c-d206-485f-9075-1fdac927b9f7",
   "metadata": {},
   "outputs": [
    {
     "data": {
      "image/png": "[encoded data removed]",
      "text/plain": [
       "<Figure size 1000x600 with 1 Axes>"
      ]
     },
     "metadata": {},
     "output_type": "display_data"
    }
   ],
   "source": [
    "import seaborn as sns\n",
    "\n",
    "# Set Seaborn style\n",
    "sns.set(style=\"whitegrid\")\n",
    "\n",
    "# Create the boxplot\n",
    "plt.figure(figsize=(10, 6))\n",
    "sns.boxplot(\n",
    "    x=movies_with_imdb['imdb_rating'],\n",
    "    color='orange',\n",
    "    orient='h',\n",
    "    width=0.5,\n",
    "    fliersize=5,\n",
    "    linewidth=2\n",
    ")\n",
    "plt.title('Boxplot of IMDb Ratings', fontsize=16)\n",
    "plt.xlabel('IMDb Rating', fontsize=14)\n",
    "plt.show()\n"
   ]
  },
  {
   "cell_type": "code",
   "execution_count": null,
   "id": "9dbdf913-e60e-4a01-b899-2ea04af3da86",
   "metadata": {},
   "outputs": [],
   "source": []
  }
 ],
 "metadata": {
  "kernelspec": {
   "display_name": "Python 3 (ipykernel)",
   "language": "python",
   "name": "python3"
  },
  "language_info": {
   "codemirror_mode": {
    "name": "ipython",
    "version": 3
   },
   "file_extension": ".py",
   "mimetype": "text/x-python",
   "name": "python",
   "nbconvert_exporter": "python",
   "pygments_lexer": "ipython3",
   "version": "3.11.5"
  }
 },
 "nbformat": 4,
 "nbformat_minor": 5
}
